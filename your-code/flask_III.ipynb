{
 "cells": [
  {
   "cell_type": "markdown",
   "id": "4ccf9dd6",
   "metadata": {},
   "source": [
    "# importing requests"
   ]
  },
  {
   "cell_type": "code",
   "execution_count": 42,
   "id": "95c74a31",
   "metadata": {},
   "outputs": [],
   "source": [
    "import requests\n",
    "import json"
   ]
  },
  {
   "cell_type": "markdown",
   "id": "b0ee73ef",
   "metadata": {},
   "source": [
    "# requests.post"
   ]
  },
  {
   "cell_type": "code",
   "execution_count": 47,
   "id": "56a6837f",
   "metadata": {},
   "outputs": [],
   "source": [
    "new_employee = {\n",
    "    \"emp_no\": \"00002\",\n",
    "    \"birth_date\": \"1999-09-09\",\n",
    "    \"first_name\": \"Bego\",\n",
    "    \"last_name\": \"Ripoll\",\n",
    "    \"gender\":\"F\",\n",
    "    \"hire_date\": \"2021-02-01\"\n",
    "} \n",
    "\n",
    "post = requests.post(\"http://127.0.0.1:9000/insert-into-employees\", \n",
    "                     params=new_employee)\n"
   ]
  },
  {
   "cell_type": "code",
   "execution_count": 48,
   "id": "68e399a1",
   "metadata": {},
   "outputs": [
    {
     "data": {
      "text/plain": [
       "<Response [200]>"
      ]
     },
     "execution_count": 48,
     "metadata": {},
     "output_type": "execute_result"
    }
   ],
   "source": [
    "post"
   ]
  },
  {
   "cell_type": "code",
   "execution_count": 49,
   "id": "b0d47bb1",
   "metadata": {},
   "outputs": [
    {
     "data": {
      "text/plain": [
       "b'New employee inserted'"
      ]
     },
     "execution_count": 49,
     "metadata": {},
     "output_type": "execute_result"
    }
   ],
   "source": [
    "post.content"
   ]
  },
  {
   "cell_type": "code",
   "execution_count": 50,
   "id": "8b495693",
   "metadata": {},
   "outputs": [],
   "source": [
    "json=new_employee"
   ]
  },
  {
   "cell_type": "code",
   "execution_count": null,
   "id": "b4aa4cd0",
   "metadata": {},
   "outputs": [],
   "source": []
  },
  {
   "cell_type": "code",
   "execution_count": null,
   "id": "fdbeee1f",
   "metadata": {},
   "outputs": [],
   "source": []
  },
  {
   "cell_type": "code",
   "execution_count": null,
   "id": "4957766c",
   "metadata": {},
   "outputs": [],
   "source": []
  },
  {
   "cell_type": "code",
   "execution_count": null,
   "id": "40d1f049",
   "metadata": {},
   "outputs": [],
   "source": []
  },
  {
   "cell_type": "code",
   "execution_count": null,
   "id": "fb5cbc87",
   "metadata": {},
   "outputs": [],
   "source": []
  },
  {
   "cell_type": "code",
   "execution_count": null,
   "id": "e0cb67b8",
   "metadata": {},
   "outputs": [],
   "source": []
  },
  {
   "cell_type": "code",
   "execution_count": null,
   "id": "74045819",
   "metadata": {},
   "outputs": [],
   "source": []
  },
  {
   "cell_type": "code",
   "execution_count": 5,
   "id": "4dcfd173",
   "metadata": {
    "scrolled": true
   },
   "outputs": [
    {
     "data": {
      "text/plain": [
       "{'birth_date': 'Wed, 02 Sep 1953 00:00:00 GMT',\n",
       " 'emp_no': 10001,\n",
       " 'first_name': 'Georgi',\n",
       " 'gender': 'M',\n",
       " 'hire_date': 'Thu, 26 Jun 1986 00:00:00 GMT',\n",
       " 'last_name': 'Facello'}"
      ]
     },
     "execution_count": 5,
     "metadata": {},
     "output_type": "execute_result"
    }
   ],
   "source": [
    "res = requests.get(\"http://127.0.0.1:9000/table/employees\", params={\"limit\":2})\n",
    "res.json()[0]"
   ]
  }
 ],
 "metadata": {
  "kernelspec": {
   "display_name": "ironhack",
   "language": "python",
   "name": "ironhack"
  },
  "language_info": {
   "codemirror_mode": {
    "name": "ipython",
    "version": 3
   },
   "file_extension": ".py",
   "mimetype": "text/x-python",
   "name": "python",
   "nbconvert_exporter": "python",
   "pygments_lexer": "ipython3",
   "version": "3.9.12"
  },
  "toc": {
   "base_numbering": 1,
   "nav_menu": {},
   "number_sections": true,
   "sideBar": true,
   "skip_h1_title": false,
   "title_cell": "Table of Contents",
   "title_sidebar": "Contents",
   "toc_cell": false,
   "toc_position": {},
   "toc_section_display": true,
   "toc_window_display": false
  }
 },
 "nbformat": 4,
 "nbformat_minor": 5
}
